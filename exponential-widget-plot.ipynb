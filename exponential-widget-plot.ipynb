{
 "cells": [
  {
   "cell_type": "code",
   "execution_count": 11,
   "metadata": {
    "collapsed": false
   },
   "outputs": [
    {
     "data": {
      "image/png": "[encoded data removed]",
      "text/plain": [
       "<matplotlib.figure.Figure at 0x1078086d8>"
      ]
     },
     "metadata": {},
     "output_type": "display_data"
    }
   ],
   "source": [
    "%matplotlib inline\n",
    "import matplotlib.pyplot as plt\n",
    "import numpy as np\n",
    "\n",
    "import ipywidgets\n",
    "from IPython.display import display, clear_output\n",
    "\n",
    "time_constant = ipywidgets.FloatSlider(min=0.1, max=2, value=0, step=0.1, \n",
    "                                 description=\"Time Constant\")\n",
    "multiplier = ipywidgets.FloatSlider(min=1, max=10, value=0, step=0.5,\n",
    "                                 description=\"Multiplier\")\n",
    "\n",
    "display(time_constant)\n",
    "display(multiplier)\n",
    "\n",
    "def exp_plot():\n",
    "    clear_output(True)\n",
    "    x = np.linspace(0,5,50)\n",
    "    y = multiplier.value * np.exp(time_constant.value * x)\n",
    "    plt.plot(x, y)\n",
    "    plt.grid(True)\n",
    "    plt.ylim((0, 100))\n",
    "    plt.title('$y = {0}\\cdot\\exp({1}x)$'.format(multiplier.value, time_constant.value))\n",
    "\n",
    "time_constant.on_trait_change(exp_plot, 'value')\n",
    "multiplier.on_trait_change(exp_plot, 'value')\n",
    "exp_plot()"
   ]
  },
  {
   "cell_type": "code",
   "execution_count": null,
   "metadata": {
    "collapsed": true
   },
   "outputs": [],
   "source": []
  }
 ],
 "metadata": {
  "Title": "IPython Widgets and Random Teams",
  "date": "2016-01-02",
  "kernelspec": {
   "display_name": "Python 3",
   "language": "python",
   "name": "python3"
  },
  "language_info": {
   "codemirror_mode": {
    "name": "ipython",
    "version": 3
   },
   "file_extension": ".py",
   "mimetype": "text/x-python",
   "name": "python",
   "nbconvert_exporter": "python",
   "pygments_lexer": "ipython3",
   "version": "3.4.3"
  }
 },
 "nbformat": 4,
 "nbformat_minor": 0
}
