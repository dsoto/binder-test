{
 "cells": [
  {
   "cell_type": "markdown",
   "metadata": {},
   "source": [
    "In my classes, I often assign students to random teams.  I use a simple notebook to do this.  From the roster, I prepare a list of strings of student names.  I then randomize the list and partition it into groups.  I render this in an HTML table to make it easy to read and project it on the screen.  \n",
    "\n",
    "This semester, I'm adding a few widgets to make it easier to use and configure quickly during class.  The widget framework supplied by IPython makes it straightforward to create lightweight applications.\n",
    "\n",
    "I make a class with a HTML representation method that allows it to be displayed by IPython's display functions.  I also make a small function to randomize a list of strings representing student names.\n",
    "\n",
    "To make the application, I set up widgets for the sizes of the teams and whether or not to shuffle the list.  I have a function that outputs random groups of teams based on the list of students, the size of teams, and whether or not to shuffle the list.  Finally, a button executes this function when pressed and creates a new table of teams."
   ]
  },
  {
   "cell_type": "code",
   "execution_count": 1,
   "metadata": {
    "collapsed": false
   },
   "outputs": [],
   "source": [
    "class ListTable(list):\n",
    "    \"\"\" Overridden list class which takes a 2-dimensional list of \n",
    "        the form [[1,2,3],[4,5,6]], and renders an HTML Table in \n",
    "        IPython Notebook. \"\"\"\n",
    "    \n",
    "    def _repr_html_(self):\n",
    "        html = [\"<table>\"]\n",
    "        for i, row in enumerate(self, start=1):\n",
    "            html.append(\"<tr>\")\n",
    "            # create row index\n",
    "            html.append(\"<td>{0}</td>\".format(i))\n",
    "            # add elements in row\n",
    "            for col in row:\n",
    "                html.append(\"<td>{0}</td>\".format(col))\n",
    "            # close row\n",
    "            html.append(\"</tr>\")\n",
    "        html.append(\"</table>\")\n",
    "        return ''.join(html)\n",
    "    \n",
    "def group_students(students, groupsize, randomize=True):\n",
    "    ''' Shuffle a list of strings and partition into groups.\n",
    "        Returns a 2-d list of strings.'''\n",
    "    templist = [s for s in students]\n",
    "    if randomize:\n",
    "        import random\n",
    "        random.shuffle(templist)\n",
    "    table = []\n",
    "    for i in range(0, len(templist), groupsize):\n",
    "        table.append(templist[i:i+groupsize])\n",
    "    return table\n",
    "\n",
    "students = [\n",
    "'Amory Lovins',\n",
    "'Art Rosenfeld',\n",
    "'Daniel Yergin',\n",
    "'Ernest Moniz',\n",
    "'Gavin Schmidt',\n",
    "'Henry Ford',\n",
    "'James Watt',\n",
    "'Judith Curry',\n",
    "'Michael Mann',\n",
    "'Stephen Schneider',\n",
    "'Svante Arrhenius',\n",
    "'Vaclav Smil',\n",
    "]"
   ]
  },
  {
   "cell_type": "code",
   "execution_count": 2,
   "metadata": {
    "collapsed": false
   },
   "outputs": [
    {
     "data": {
      "text/html": [
       "<table><tr><td>1</td><td>Judith Curry</td><td>Vaclav Smil</td><td>Ernest Moniz</td></tr><tr><td>2</td><td>James Watt</td><td>Michael Mann</td><td>Amory Lovins</td></tr><tr><td>3</td><td>Stephen Schneider</td><td>Svante Arrhenius</td><td>Daniel Yergin</td></tr><tr><td>4</td><td>Henry Ford</td><td>Art Rosenfeld</td><td>Gavin Schmidt</td></tr></table>"
      ],
      "text/plain": [
       "[['Judith Curry', 'Vaclav Smil', 'Ernest Moniz'],\n",
       " ['James Watt', 'Michael Mann', 'Amory Lovins'],\n",
       " ['Stephen Schneider', 'Svante Arrhenius', 'Daniel Yergin'],\n",
       " ['Henry Ford', 'Art Rosenfeld', 'Gavin Schmidt']]"
      ]
     },
     "metadata": {},
     "output_type": "display_data"
    }
   ],
   "source": [
    "import ipywidgets\n",
    "from IPython.display import display, clear_output\n",
    "\n",
    "# set up widgets\n",
    "button = ipywidgets.Button(description=\"Create Teams\")\n",
    "team_size = ipywidgets.IntSlider(min=2, max=5, value=3, \n",
    "                                 description=\"Team Size\")\n",
    "randomize = ipywidgets.Checkbox(value=True, \n",
    "                                description='Randomize')\n",
    "\n",
    "# define function called on button click\n",
    "def on_button_clicked(b):\n",
    "    clear_output()\n",
    "    display(ListTable(group_students(students,\n",
    "                                     team_size.value,\n",
    "                                     randomize=randomize.value)))\n",
    "\n",
    "# render and run widgets\n",
    "display(randomize)\n",
    "display(team_size)\n",
    "display(button)\n",
    "button.on_click(on_button_clicked)"
   ]
  },
  {
   "cell_type": "code",
   "execution_count": null,
   "metadata": {
    "collapsed": true
   },
   "outputs": [],
   "source": []
  }
 ],
 "metadata": {
  "Title": "IPython Widgets and Random Teams",
  "date": "2016-01-02",
  "kernelspec": {
   "display_name": "Python 3",
   "language": "python",
   "name": "python3"
  },
  "language_info": {
   "codemirror_mode": {
    "name": "ipython",
    "version": 3
   },
   "file_extension": ".py",
   "mimetype": "text/x-python",
   "name": "python",
   "nbconvert_exporter": "python",
   "pygments_lexer": "ipython3",
   "version": "3.4.3"
  }
 },
 "nbformat": 4,
 "nbformat_minor": 0
}
