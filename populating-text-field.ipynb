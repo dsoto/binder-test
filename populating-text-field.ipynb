{
 "cells": [
  {
   "cell_type": "markdown",
   "metadata": {},
   "source": [
    "Sometimes we need to select from a very long list of options.  It would be nice to have a fuzzy search that autopopulates.  In my research, we have a data set with a long list of columns.  Being able to see which columns match a few characters would be very useful."
   ]
  },
  {
   "cell_type": "code",
   "execution_count": 1,
   "metadata": {
    "collapsed": false
   },
   "outputs": [
    {
     "name": "stderr",
     "output_type": "stream",
     "text": [
      "/Users/dsoto/anaconda/envs/sotolab/lib/python3.4/site-packages/ipykernel/__main__.py:17: DeprecationWarning: on_trait_change is deprecated: use observe instead\n"
     ]
    }
   ],
   "source": [
    "from ipywidgets import widgets\n",
    "from IPython.display import display\n",
    "\n",
    "options = ['one',\n",
    "           'two',\n",
    "           'once',\n",
    "           'twice',\n",
    "           'three',\n",
    "           'thrice']\n",
    "\n",
    "def print_list():\n",
    "    reduced_options = [f for f in options if input_text.value in f]\n",
    "    output_text.value = ', '.join(reduced_options)\n",
    "\n",
    "output_text = widgets.Text()\n",
    "input_text = widgets.Text()\n",
    "input_text.on_trait_change(print_list, 'value')\n",
    "\n",
    "display(input_text)\n",
    "display(output_text)\n",
    "\n",
    "print_list()"
   ]
  },
  {
   "cell_type": "code",
   "execution_count": null,
   "metadata": {
    "collapsed": true
   },
   "outputs": [],
   "source": []
  }
 ],
 "metadata": {
  "kernelspec": {
   "display_name": "Python 3",
   "language": "python",
   "name": "python3"
  },
  "language_info": {
   "codemirror_mode": {
    "name": "ipython",
    "version": 3
   },
   "file_extension": ".py",
   "mimetype": "text/x-python",
   "name": "python",
   "nbconvert_exporter": "python",
   "pygments_lexer": "ipython3",
   "version": "3.4.4"
  }
 },
 "nbformat": 4,
 "nbformat_minor": 0
}
