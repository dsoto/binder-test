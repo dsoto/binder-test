{
 "cells": [
  {
   "cell_type": "code",
   "execution_count": 15,
   "metadata": {
    "collapsed": false
   },
   "outputs": [
    {
     "data": {
      "image/png": "[encoded data removed]",
      "text/plain": [
       "<matplotlib.figure.Figure at 0x103109080>"
      ]
     },
     "metadata": {},
     "output_type": "display_data"
    }
   ],
   "source": [
    "%matplotlib inline\n",
    "import matplotlib.pyplot as plt\n",
    "import numpy as np\n",
    "\n",
    "import ipywidgets\n",
    "from IPython.display import display, clear_output\n",
    "\n",
    "slope = ipywidgets.FloatSlider(min=-2, max=2, value=0, step=0.1, \n",
    "                                 description=\"slope\")\n",
    "intercept = ipywidgets.FloatSlider(min=-5, max=5, value=0, step=0.5,\n",
    "                                 description=\"intercept\")\n",
    "\n",
    "display(slope)\n",
    "display(intercept)\n",
    "\n",
    "def linear_plot():\n",
    "    clear_output(True)\n",
    "    x = np.linspace(0,10,11)\n",
    "    y = slope.value * x + intercept.value\n",
    "    plt.plot(x, y)\n",
    "    plt.grid(True)\n",
    "    plt.ylim((-10, 10))\n",
    "    plt.title('$y = {0}x + {1}$'.format(slope.value, intercept.value))\n",
    "\n",
    "slope.on_trait_change(linear_plot, 'value')\n",
    "intercept.on_trait_change(linear_plot, 'value')\n",
    "linear_plot()"
   ]
  },
  {
   "cell_type": "code",
   "execution_count": null,
   "metadata": {
    "collapsed": true
   },
   "outputs": [],
   "source": []
  }
 ],
 "metadata": {
  "Title": "IPython Widgets and Random Teams",
  "date": "2016-01-02",
  "kernelspec": {
   "display_name": "Python 3",
   "language": "python",
   "name": "python3"
  },
  "language_info": {
   "codemirror_mode": {
    "name": "ipython",
    "version": 3
   },
   "file_extension": ".py",
   "mimetype": "text/x-python",
   "name": "python",
   "nbconvert_exporter": "python",
   "pygments_lexer": "ipython3",
   "version": "3.4.3"
  }
 },
 "nbformat": 4,
 "nbformat_minor": 0
}
