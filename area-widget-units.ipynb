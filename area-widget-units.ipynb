{
 "cells": [
  {
   "cell_type": "markdown",
   "metadata": {},
   "source": [
    "Here is a small application that takes in the length and width of a rectangle and calculates the area.  You can also select the units of the length and width as well as the output units."
   ]
  },
  {
   "cell_type": "code",
   "execution_count": 6,
   "metadata": {
    "collapsed": false
   },
   "outputs": [
    {
     "name": "stdout",
     "output_type": "stream",
     "text": [
      "area output: 25.0 meter ** 2\n"
     ]
    }
   ],
   "source": [
    "import ipywidgets\n",
    "from IPython.display import display, clear_output, Latex\n",
    "\n",
    "width = ipywidgets.FloatSlider(min=0, max=10, value=5, step=0.5, \n",
    "                                 description=\"width\")\n",
    "length = ipywidgets.FloatSlider(min=0, max=10, value=5, step=0.5, \n",
    "                                 description=\"length\")\n",
    "\n",
    "# use pint to handle units and add selectors\n",
    "import pint\n",
    "u = pint.UnitRegistry()\n",
    "options = {'meters':u.meter,\n",
    "           'feet':u.feet,\n",
    "           'inches':u.inch}\n",
    "unit_one = ipywidgets.Dropdown(options=options, value=options['meters'])\n",
    "unit_two = ipywidgets.Dropdown(options=options, value=options['meters'])\n",
    "outunits = ipywidgets.Dropdown(options=options, value=options['meters'])\n",
    "dim_one = ipywidgets.HBox((width, unit_one))\n",
    "dim_two = ipywidgets.HBox((length, unit_two))\n",
    "display(dim_one)\n",
    "display(dim_two)\n",
    "display(outunits)\n",
    "\n",
    "def print_area():\n",
    "    clear_output(True)\n",
    "    area = (width.value * unit_one.value \n",
    "            * length.value * unit_two.value)\n",
    "    # use a latex display and repr with Pint?\n",
    "    print('area output:', area.to(outunits.value**2))\n",
    "\n",
    "# is there a convenience function to register every widget\n",
    "# with my callback function?\n",
    "unit_one.on_trait_change(print_area, 'value')\n",
    "unit_two.on_trait_change(print_area, 'value')\n",
    "width.on_trait_change(print_area, 'value')\n",
    "length.on_trait_change(print_area, 'value')\n",
    "outunits.on_trait_change(print_area, 'value')\n",
    "\n",
    "print_area()"
   ]
  },
  {
   "cell_type": "code",
   "execution_count": null,
   "metadata": {
    "collapsed": true
   },
   "outputs": [],
   "source": []
  }
 ],
 "metadata": {
  "Title": "IPython Widgets and Random Teams",
  "date": "2016-01-02",
  "kernelspec": {
   "display_name": "Python 3",
   "language": "python",
   "name": "python3"
  },
  "language_info": {
   "codemirror_mode": {
    "name": "ipython",
    "version": 3
   },
   "file_extension": ".py",
   "mimetype": "text/x-python",
   "name": "python",
   "nbconvert_exporter": "python",
   "pygments_lexer": "ipython3",
   "version": "3.4.3"
  }
 },
 "nbformat": 4,
 "nbformat_minor": 0
}
