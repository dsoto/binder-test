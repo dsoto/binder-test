{
 "cells": [
  {
   "cell_type": "markdown",
   "metadata": {},
   "source": [
    "# Linear Least-Squares Fit\n",
    "\n",
    "This interactive notebook allows you to visualize the squared error between a linear function and the points it is attempting to fit.  By adjusting the sliders, try to reduce the total amount of area and therefore the area.  When you have minimized this area, you will be very close to the optimum least-squares mathematical fit.  "
   ]
  },
  {
   "cell_type": "code",
   "execution_count": 1,
   "metadata": {
    "collapsed": true
   },
   "outputs": [],
   "source": [
    "%matplotlib inline\n",
    "import matplotlib.pyplot as plt\n",
    "import numpy as np\n",
    "from matplotlib.patches import Rectangle"
   ]
  },
  {
   "cell_type": "code",
   "execution_count": 7,
   "metadata": {
    "collapsed": true
   },
   "outputs": [],
   "source": [
    "def linear_plot():\n",
    "    clear_output(True)\n",
    "    x = np.linspace(-2,10,11)\n",
    "    y = slope.value * x + intercept.value\n",
    "    plt.plot(x, y)\n",
    "    plt.grid(True)\n",
    "    plt.xlim((-1, 5))\n",
    "    plt.ylim((-1, 5))\n",
    "    plt.title('$y = {0}x + {1}$'.format(slope.value, intercept.value))\n",
    "    ax = plt.gca()\n",
    "    ax.set_aspect('equal')\n",
    "\n",
    "    def get_y_coord(x, slope, intercept):\n",
    "        return slope * x + intercept\n",
    "\n",
    "    def plot_point_and_squared_error(p, ax):\n",
    "        # p[0] and p[1] are the x and y of the data point\n",
    "        # xp1 and xp1 are the lower left of a square representing the error\n",
    "        # xp2 and yp2 are the opposite corner of a square representing the error\n",
    "        # get y point on line\n",
    "        xp1, yp1 = p[0], p[1]\n",
    "        yp2 = get_y_coord(p[0], slope.value, intercept.value)\n",
    "        y_error = yp2 - p[1]\n",
    "        width = abs(y_error)\n",
    "        # if point is above line point on line is lower left corner\n",
    "        if y_error < 0:\n",
    "            yp1 = yp2\n",
    "        ax.add_patch(Rectangle((xp1 ,yp1), width, width, alpha=0.1))\n",
    "        ax.plot(p[0], p[1], 'x')\n",
    "        return width**2\n",
    "    \n",
    "    points = [(0.,0.3), (1.,0.7), (2., 2.5), (3., 2.6)]\n",
    "    error = 0\n",
    "    for p in points:\n",
    "        error += plot_point_and_squared_error(p, ax)\n",
    "    print('squared error =', error)"
   ]
  },
  {
   "cell_type": "code",
   "execution_count": 8,
   "metadata": {
    "collapsed": false
   },
   "outputs": [
    {
     "name": "stdout",
     "output_type": "stream",
     "text": [
      "squared error = 6.75\n"
     ]
    },
    {
     "data": {
      "image/png": "[encoded data removed]",
      "text/plain": [
       "<matplotlib.figure.Figure at 0x106f2add8>"
      ]
     },
     "metadata": {},
     "output_type": "display_data"
    }
   ],
   "source": [
    "import ipywidgets\n",
    "from IPython.display import display, clear_output\n",
    "\n",
    "slope = ipywidgets.FloatSlider(min=-2, max=2, value=0, step=0.1, \n",
    "                                 description=\"slope\")\n",
    "intercept = ipywidgets.FloatSlider(min=-5, max=5, value=0, step=0.1,\n",
    "                                 description=\"intercept\")\n",
    "\n",
    "display(slope)\n",
    "display(intercept)\n",
    "\n",
    "\n",
    "slope.on_trait_change(linear_plot, 'value')\n",
    "intercept.on_trait_change(linear_plot, 'value')\n",
    "linear_plot()"
   ]
  },
  {
   "cell_type": "code",
   "execution_count": null,
   "metadata": {
    "collapsed": true
   },
   "outputs": [],
   "source": []
  }
 ],
 "metadata": {
  "Title": "IPython Widgets and Random Teams",
  "date": "2016-01-02",
  "kernelspec": {
   "display_name": "Python 3",
   "language": "python",
   "name": "python3"
  },
  "language_info": {
   "codemirror_mode": {
    "name": "ipython",
    "version": 3
   },
   "file_extension": ".py",
   "mimetype": "text/x-python",
   "name": "python",
   "nbconvert_exporter": "python",
   "pygments_lexer": "ipython3",
   "version": "3.4.4"
  }
 },
 "nbformat": 4,
 "nbformat_minor": 0
}
